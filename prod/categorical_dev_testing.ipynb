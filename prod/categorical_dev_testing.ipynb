{
 "cells": [
  {
   "attachments": {},
   "cell_type": "markdown",
   "id": "347d5b2a",
   "metadata": {},
   "source": [
    "# new One - Dev started 15/02/2023\n"
   ]
  },
  {
   "cell_type": "code",
   "execution_count": 1,
   "id": "41d0333f",
   "metadata": {},
   "outputs": [],
   "source": [
    "import pandas as pd\n",
    "from sklearn.impute import SimpleImputer\n",
    "import numpy as np\n",
    "from sklearn.metrics import rand_score,adjusted_rand_score\n",
    "from sklearn.cluster import KMeans\n",
    "import statistics as s\n",
    "import matplotlib.pyplot as plt\n",
    "import numpy as np\n",
    "import pandas as pd\n",
    "\n",
    "from matplotlib import pyplot as plt\n",
    "import plotly.express as px\n",
    "from sklearn.compose import ColumnTransformer\n",
    "from sklearn.impute import SimpleImputer\n",
    "import statistics\n",
    "from sklearn.pipeline import Pipeline\n",
    "from sklearn.preprocessing import (MinMaxScaler,\n",
    "FunctionTransformer,\n",
    "LabelBinarizer,\n",
    "LabelEncoder,\n",
    "OneHotEncoder,\n",
    "OrdinalEncoder,\n",
    "StandardScaler,\n",
    ")\n",
    "from sklearn import preprocessing\n",
    "import re\n",
    "import scienceplots\n",
    "\n",
    "plt.style.use(['science','no-latex',\"nature\"])\n",
    "#plt.style.use('science')\n"
   ]
  },
  {
   "cell_type": "code",
   "execution_count": 2,
   "id": "ade248e4-15ee-43b8-928f-ec959a7790c5",
   "metadata": {
    "execution": {
     "iopub.execute_input": "2022-08-22T08:27:15.662513Z",
     "iopub.status.busy": "2022-08-22T08:27:15.662428Z",
     "iopub.status.idle": "2022-08-22T08:27:15.664546Z",
     "shell.execute_reply": "2022-08-22T08:27:15.664319Z",
     "shell.execute_reply.started": "2022-08-22T08:27:15.662501Z"
    },
    "tags": []
   },
   "outputs": [],
   "source": [
    "###variables\n",
    "continuous_values = [\n",
    "    \"Age\",\n",
    "    \"trestbps\",\n",
    "    \"chol\",\n",
    "    \"thalach\",\n",
    "    \"oldpeak\"\n",
    "]\n",
    "NA_REPLACE=[\"?\"]"
   ]
  },
  {
   "cell_type": "code",
   "execution_count": 3,
   "id": "9f496a62-ac9b-4a8f-a288-15cf1dfdeacf",
   "metadata": {
    "execution": {
     "iopub.execute_input": "2022-08-22T08:27:15.664952Z",
     "iopub.status.busy": "2022-08-22T08:27:15.664888Z",
     "iopub.status.idle": "2022-08-22T08:27:17.052857Z",
     "shell.execute_reply": "2022-08-22T08:27:17.052613Z",
     "shell.execute_reply.started": "2022-08-22T08:27:15.664944Z"
    },
    "tags": []
   },
   "outputs": [
    {
     "data": {
      "text/html": [
       "<div>\n",
       "<style scoped>\n",
       "    .dataframe tbody tr th:only-of-type {\n",
       "        vertical-align: middle;\n",
       "    }\n",
       "\n",
       "    .dataframe tbody tr th {\n",
       "        vertical-align: top;\n",
       "    }\n",
       "\n",
       "    .dataframe thead th {\n",
       "        text-align: right;\n",
       "    }\n",
       "</style>\n",
       "<table border=\"1\" class=\"dataframe\">\n",
       "  <thead>\n",
       "    <tr style=\"text-align: right;\">\n",
       "      <th></th>\n",
       "      <th>Age</th>\n",
       "      <th>sex</th>\n",
       "      <th>cp</th>\n",
       "      <th>trestbps</th>\n",
       "      <th>chol</th>\n",
       "      <th>fbs</th>\n",
       "      <th>restecg</th>\n",
       "      <th>thalach</th>\n",
       "      <th>exang</th>\n",
       "      <th>oldpeak</th>\n",
       "      <th>slope</th>\n",
       "      <th>ca</th>\n",
       "      <th>thal</th>\n",
       "      <th>num</th>\n",
       "    </tr>\n",
       "  </thead>\n",
       "  <tbody>\n",
       "    <tr>\n",
       "      <th>0</th>\n",
       "      <td>63.0</td>\n",
       "      <td>1.0</td>\n",
       "      <td>1.0</td>\n",
       "      <td>145.0</td>\n",
       "      <td>233.0</td>\n",
       "      <td>1.0</td>\n",
       "      <td>2.0</td>\n",
       "      <td>150.0</td>\n",
       "      <td>0.0</td>\n",
       "      <td>2.3</td>\n",
       "      <td>3.0</td>\n",
       "      <td>0.0</td>\n",
       "      <td>6.0</td>\n",
       "      <td>0</td>\n",
       "    </tr>\n",
       "    <tr>\n",
       "      <th>1</th>\n",
       "      <td>67.0</td>\n",
       "      <td>1.0</td>\n",
       "      <td>4.0</td>\n",
       "      <td>160.0</td>\n",
       "      <td>286.0</td>\n",
       "      <td>0.0</td>\n",
       "      <td>2.0</td>\n",
       "      <td>108.0</td>\n",
       "      <td>1.0</td>\n",
       "      <td>1.5</td>\n",
       "      <td>2.0</td>\n",
       "      <td>3.0</td>\n",
       "      <td>3.0</td>\n",
       "      <td>2</td>\n",
       "    </tr>\n",
       "    <tr>\n",
       "      <th>2</th>\n",
       "      <td>67.0</td>\n",
       "      <td>1.0</td>\n",
       "      <td>4.0</td>\n",
       "      <td>120.0</td>\n",
       "      <td>229.0</td>\n",
       "      <td>0.0</td>\n",
       "      <td>2.0</td>\n",
       "      <td>129.0</td>\n",
       "      <td>1.0</td>\n",
       "      <td>2.6</td>\n",
       "      <td>2.0</td>\n",
       "      <td>2.0</td>\n",
       "      <td>7.0</td>\n",
       "      <td>1</td>\n",
       "    </tr>\n",
       "    <tr>\n",
       "      <th>3</th>\n",
       "      <td>37.0</td>\n",
       "      <td>1.0</td>\n",
       "      <td>3.0</td>\n",
       "      <td>130.0</td>\n",
       "      <td>250.0</td>\n",
       "      <td>0.0</td>\n",
       "      <td>0.0</td>\n",
       "      <td>187.0</td>\n",
       "      <td>0.0</td>\n",
       "      <td>3.5</td>\n",
       "      <td>3.0</td>\n",
       "      <td>0.0</td>\n",
       "      <td>3.0</td>\n",
       "      <td>0</td>\n",
       "    </tr>\n",
       "  </tbody>\n",
       "</table>\n",
       "</div>"
      ],
      "text/plain": [
       "    Age  sex   cp  trestbps   chol  fbs  restecg  thalach  exang  oldpeak  \\\n",
       "0  63.0  1.0  1.0     145.0  233.0  1.0      2.0    150.0    0.0      2.3   \n",
       "1  67.0  1.0  4.0     160.0  286.0  0.0      2.0    108.0    1.0      1.5   \n",
       "2  67.0  1.0  4.0     120.0  229.0  0.0      2.0    129.0    1.0      2.6   \n",
       "3  37.0  1.0  3.0     130.0  250.0  0.0      0.0    187.0    0.0      3.5   \n",
       "\n",
       "   slope   ca thal  num  \n",
       "0    3.0  0.0  6.0    0  \n",
       "1    2.0  3.0  3.0    2  \n",
       "2    2.0  2.0  7.0    1  \n",
       "3    3.0  0.0  3.0    0  "
      ]
     },
     "execution_count": 3,
     "metadata": {},
     "output_type": "execute_result"
    }
   ],
   "source": [
    "data=pd.read_table(\"https://archive.ics.uci.edu/ml/machine-learning-databases/heart-disease/processed.cleveland.data\",sep=\",\",header=None)\n",
    "\n",
    "cols=[\"Age\",\"sex\",\"cp\",\"trestbps\",\"chol\",\"fbs\",\"restecg\",\"thalach\",\"exang\",\"oldpeak\",\"slope\",\"ca\",\"thal\",\"num\"]\n",
    "\n",
    "NR_COLS=len(cols)\n",
    "data.columns=cols\n",
    "data.head(4)\n"
   ]
  },
  {
   "cell_type": "code",
   "execution_count": 4,
   "id": "c3e153c7-741e-4168-9284-dcd3ff4ab06f",
   "metadata": {
    "execution": {
     "iopub.execute_input": "2022-08-22T08:27:17.061107Z",
     "iopub.status.busy": "2022-08-22T08:27:17.061029Z",
     "iopub.status.idle": "2022-08-22T08:27:17.063446Z",
     "shell.execute_reply": "2022-08-22T08:27:17.063146Z",
     "shell.execute_reply.started": "2022-08-22T08:27:17.061099Z"
    },
    "tags": []
   },
   "outputs": [],
   "source": [
    "# categorical variables are aprehend by difference\n",
    "categorical_values = data[data.columns.difference(continuous_values)].columns"
   ]
  },
  {
   "cell_type": "code",
   "execution_count": 5,
   "id": "82d582a1-c311-4007-ad83-22ead1996c69",
   "metadata": {
    "execution": {
     "iopub.execute_input": "2022-08-22T08:27:17.063964Z",
     "iopub.status.busy": "2022-08-22T08:27:17.063903Z",
     "iopub.status.idle": "2022-08-22T08:27:17.065899Z",
     "shell.execute_reply": "2022-08-22T08:27:17.065656Z",
     "shell.execute_reply.started": "2022-08-22T08:27:17.063956Z"
    },
    "tags": []
   },
   "outputs": [],
   "source": [
    "for col in NA_REPLACE:\n",
    "    data.replace(col,np.nan,inplace=True)"
   ]
  },
  {
   "cell_type": "code",
   "execution_count": 6,
   "id": "9623e395",
   "metadata": {},
   "outputs": [],
   "source": [
    "imp_mean = SimpleImputer(missing_values=np.nan, strategy='mean')\n",
    "x_cont=imp_mean.fit_transform(data[continuous_values])\n",
    "imp_mean = SimpleImputer(missing_values=np.nan, strategy='most_frequent')\n",
    "x_cat=imp_mean.fit_transform(data[categorical_values])\n",
    "data[continuous_values]=pd.DataFrame(x_cont,columns=continuous_values)\n",
    "data[categorical_values]=pd.DataFrame(x_cat,columns=categorical_values)"
   ]
  },
  {
   "cell_type": "code",
   "execution_count": 7,
   "id": "0a33e4c8",
   "metadata": {},
   "outputs": [],
   "source": [
    "# convert types\n",
    "data[continuous_values] = data[continuous_values].astype(\"float64\")\n",
    "data[categorical_values] = data[categorical_values].astype(\"float64\").astype(str)\n"
   ]
  },
  {
   "cell_type": "code",
   "execution_count": 8,
   "id": "bab71d88",
   "metadata": {},
   "outputs": [],
   "source": [
    "silo1=data.iloc[:100,:]\n",
    "silo2=data.iloc[100:200,:]\n",
    "silo3=data.iloc[200:300,:]"
   ]
  },
  {
   "cell_type": "markdown",
   "id": "5c647de0",
   "metadata": {},
   "source": [
    "## Distributed clustering"
   ]
  },
  {
   "cell_type": "markdown",
   "id": "83cc065a",
   "metadata": {},
   "source": [
    "1. cada um inicializa  \n",
    "1.1 ou com elementos tirados de uma distribuição com media igual a sua e desvio padrao x  \n",
    "1.2 ou com proprios centroides  \n",
    "1.3 ou com ruido nos dados e depois criar centroides  \n",
    "2. cada um recebe os centroids e adiciona os seus proprios e a sua media (a media insere vies)  \n",
    "3. repetir envio até:  \n",
    "    3.1 medida de concordancia que é matrix confusão de todos os pares de pontos e cujo centroide estao associados   \n",
    "    "
   ]
  },
  {
   "cell_type": "code",
   "execution_count": 9,
   "id": "66058375",
   "metadata": {},
   "outputs": [
    {
     "name": "stdout",
     "output_type": "stream",
     "text": [
      "init_1 [array([2.12005603, 1.70005603])]\n",
      "init_2 [array([1.03818289, 0.59818289])]\n",
      "init_3 [array([0.63958063, 0.41958063])]\n"
     ]
    }
   ],
   "source": [
    "# 1. cada um inicializa com os seus dados\n",
    "def create_initializer_cat(data,cols,clusters):\n",
    "    \"\"\"\n",
    "    initializer is creating a dummy centroid for initializing\n",
    "    takes the data, uses it to create random noise and then adds it to the real clusters\n",
    "    \"\"\"\n",
    "    res=[]\n",
    "    for c in cols:\n",
    "      #  print(c)\n",
    "        prop=data[c].value_counts(normalize=True).values\n",
    "        noise = np.random.normal(0,1)\n",
    "        other_noise = np.random.normal(0,1)\n",
    "        if other_noise<0:\n",
    "          noised_init = np.add(prop, noise)  \n",
    "        else:\n",
    "          noised_init = np.add(prop, -noise)\n",
    "        res.append(noised_init)\n",
    "    return res\n",
    "\n",
    "init_1=create_initializer_cat(silo1,[\"sex\"],2) #1.1\n",
    "init_2=create_initializer_cat(silo2,[\"sex\"],2)\n",
    "init_3=create_initializer_cat(silo3,[\"sex\"],2)\n",
    "print(\"init_1\",init_1)\n",
    "print(\"init_2\",init_2)\n",
    "print(\"init_3\",init_3)"
   ]
  },
  {
   "cell_type": "code",
   "execution_count": 10,
   "id": "b6c106ec",
   "metadata": {},
   "outputs": [
    {
     "name": "stdout",
     "output_type": "stream",
     "text": [
      "init_1 [array([-0.07948682, -0.49948682]), array([-0.17823367, -0.27823367, -0.49823367, -0.55823367])]\n",
      "init_2 [array([0.93214863, 0.49214863]), array([0.58239279, 0.38239279, 0.28239279, 0.20239279])]\n",
      "init_3 [array([-0.29309822, -0.51309822]), array([-1.33144216, -1.61144216, -1.65144216, -1.77144216])]\n"
     ]
    }
   ],
   "source": [
    "init_l_1=create_initializer_cat(silo1,[\"sex\",\"cp\"],2) #1.1\n",
    "init_l_2=create_initializer_cat(silo2,[\"sex\",\"cp\"],2) #1.1\n",
    "init_l_3=create_initializer_cat(silo3,[\"sex\",\"cp\"],2) #1.1\n",
    "print(\"init_1\",init_l_1)\n",
    "print(\"init_2\",init_l_2)\n",
    "print(\"init_3\",init_l_3)"
   ]
  },
  {
   "cell_type": "code",
   "execution_count": 11,
   "id": "9c78992b",
   "metadata": {},
   "outputs": [
    {
     "name": "stdout",
     "output_type": "stream",
     "text": [
      "0\n",
      "1\n",
      "0\n",
      "1\n",
      "0\n",
      "1\n",
      "c1 [array([-0.26873215,  0.80809909]), array([-1.59144216,  1.11034519])]\n",
      "c2 [array([ 1.        , -0.27703402]), array([-0.98483792,  2.64449064])]\n",
      "c3 [array([-0.19299121,  0.80809909]), array([-0.00792044,  2.70997921])]\n"
     ]
    }
   ],
   "source": [
    "#2. cada um recebe os centroids e adiciona os seus proprios e a sua media (a media insere vies)  \n",
    "def calculate_centroids_cat(seeds,data,cols,clusters):\n",
    "    \"\"\"\n",
    "    with data, calculates own mean and centroids and add to data:= centroids from the rest \n",
    "    \"\"\"\n",
    "    results=[]\n",
    "    for idx,c in enumerate(cols):\n",
    "        print(idx)\n",
    "        my_porp=data[c].value_counts(normalize=True).values\n",
    "        other_seeds=[item[idx] for item in seeds]\n",
    "\n",
    "        real_centroids=KMeans(n_clusters=clusters,n_init=10, random_state=0).fit(data[c].values.reshape(-1, 1))\n",
    "#        print(\"real\",real_centroids.cluster_centers_.flatten())\n",
    "\n",
    "    #    print(\"my\",my_porp)\n",
    "    #    print(\"other:seed\",other_seeds)\n",
    "        other_seed_flat=[item for sublist in other_seeds for item in sublist]\n",
    "     #   print(other_seed_flat)\n",
    "        final_list_data=np.concatenate((other_seed_flat,real_centroids.cluster_centers_.flatten()),axis=0) #add real centroids\n",
    "\n",
    "        res=KMeans(n_clusters=clusters,n_init=10, random_state=0).fit(final_list_data.reshape(-1, 1)) #calculate new centroids\n",
    "        results.append(res.cluster_centers_.flatten())\n",
    "    return results\n",
    "\n",
    "c1=calculate_centroids_cat([init_l_2,init_l_3],silo1,[\"sex\",\"cp\"],2)\n",
    "c2=calculate_centroids_cat([init_l_1,init_l_3],silo2,[\"sex\",\"cp\"],2)\n",
    "c3=calculate_centroids_cat([init_l_1,init_l_2],silo3,[\"sex\",\"cp\"],2)\n",
    "print(\"c1\",c1)\n",
    "print(\"c2\",c2)\n",
    "print(\"c3\",c3)\n"
   ]
  },
  {
   "cell_type": "code",
   "execution_count": 12,
   "id": "0c1da021",
   "metadata": {},
   "outputs": [
    {
     "name": "stdout",
     "output_type": "stream",
     "text": [
      "init_1 [array([0.42667415, 0.00667415]), array([-0.90419471, -1.00419471, -1.22419471, -1.28419471]), array([1.35436934, 1.21436934])]\n",
      "init_2 [array([-0.99778957, -1.43778957]), array([-1.11593626, -1.31593626, -1.41593626, -1.49593626]), array([-0.91745488, -1.03745488])]\n",
      "init_3 [array([-0.73037454, -0.95037454]), array([2.07481674, 1.79481674, 1.75481674, 1.63481674]), array([3.10264534, 2.82264534, 2.52264534])]\n"
     ]
    }
   ],
   "source": [
    "init_l__1=create_initializer_cat(silo1,[\"sex\",\"cp\",\"restecg\"],2) #1.1\n",
    "init_l__2=create_initializer_cat(silo2,[\"sex\",\"cp\",\"restecg\"],2) #1.1\n",
    "init_l__3=create_initializer_cat(silo3,[\"sex\",\"cp\",\"restecg\"],2) #1.1\n",
    "print(\"init_1\",init_l__1)\n",
    "print(\"init_2\",init_l__2)\n",
    "print(\"init_3\",init_l__3)"
   ]
  },
  {
   "cell_type": "code",
   "execution_count": 13,
   "id": "64fb79c7",
   "metadata": {},
   "outputs": [
    {
     "name": "stdout",
     "output_type": "stream",
     "text": [
      "0\n",
      "1\n",
      "2\n",
      "0\n",
      "1\n",
      "2\n",
      "0\n",
      "1\n",
      "2\n",
      "c1 [array([ 0.5       , -1.02908205]), array([ 2.07862783, -1.33593626]), array([ 2.61198401, -0.65163659])]\n",
      "c2 [array([ 0.35833707, -0.84037454]), array([ 2.09137471, -1.10419471]), array([2.61198401, 0.85624622])]\n",
      "c3 [array([ 0.35833707, -1.21778957]), array([-1.22006548,  2.70997921]), array([ 1.48782517, -0.65163659])]\n"
     ]
    }
   ],
   "source": [
    "c1=calculate_centroids_cat([init_l__2,init_l__3],silo1,[\"sex\",\"cp\",\"restecg\"],2)\n",
    "c2=calculate_centroids_cat([init_l__1,init_l__3],silo2,[\"sex\",\"cp\",\"restecg\"],2)\n",
    "c3=calculate_centroids_cat([init_l__1,init_l__2],silo3,[\"sex\",\"cp\",\"restecg\"],2)\n",
    "print(\"c1\",c1)\n",
    "print(\"c2\",c2)\n",
    "print(\"c3\",c3)"
   ]
  },
  {
   "cell_type": "code",
   "execution_count": 14,
   "id": "dffd437e",
   "metadata": {},
   "outputs": [],
   "source": [
    "#3. \n",
    "def calculate_centroids_and_score_cat(clusters,other_centroids,mydata,cols,old_preds=None):\n",
    "\n",
    "  newcs=[]\n",
    "  preds=[]\n",
    "  scores=[]\n",
    "  c1=calculate_centroids_cat(other_centroids,mydata,cols,clusters)\n",
    " # print(c1)\n",
    "  print(other_centroids)\n",
    "  for idx,c in enumerate(c1):\n",
    "   # print(c)\n",
    "   # print(idx)\n",
    "    kmm1_=KMeans(n_clusters=clusters,n_init=10, random_state=0).fit(c.reshape(-1, 1))\n",
    "    ll=mydata[cols[idx]]\n",
    "  #  print(ll)\n",
    "    pred=kmm1_.predict(np.array(ll.values.reshape(-1, 1)))\n",
    "   # print(pred)\n",
    "    new_c=kmm1_.cluster_centers_.flatten()\n",
    "    newcs.append(new_c)\n",
    "    preds.append(pred)\n",
    "    if old_preds is not None: #first round\n",
    "    #  print(old_preds)\n",
    "      scores.append(rand_score(pred,old_preds[idx]))\n",
    "    \n",
    "  return newcs,preds,scores\n"
   ]
  },
  {
   "cell_type": "code",
   "execution_count": 15,
   "id": "6695f293",
   "metadata": {},
   "outputs": [
    {
     "data": {
      "text/plain": [
       "[array([0.93214863, 0.49214863]),\n",
       " array([0.58239279, 0.38239279, 0.28239279, 0.20239279])]"
      ]
     },
     "execution_count": 15,
     "metadata": {},
     "output_type": "execute_result"
    }
   ],
   "source": [
    "init_l_2"
   ]
  },
  {
   "cell_type": "code",
   "execution_count": 16,
   "id": "9c4ad266",
   "metadata": {},
   "outputs": [
    {
     "name": "stdout",
     "output_type": "stream",
     "text": [
      "0\n",
      "1\n",
      "[[array([0.93214863, 0.49214863]), array([0.58239279, 0.38239279, 0.28239279, 0.20239279])], [array([-0.29309822, -0.51309822]), array([-1.33144216, -1.61144216, -1.65144216, -1.77144216])]]\n"
     ]
    },
    {
     "data": {
      "text/plain": [
       "[array([-0.26873215,  0.80809909]), array([-1.59144216,  1.11034519])]"
      ]
     },
     "execution_count": 16,
     "metadata": {},
     "output_type": "execute_result"
    }
   ],
   "source": [
    "xx,_,_=calculate_centroids_and_score_cat(2,[init_l_2,init_l_3],silo1,[\"sex\",\"cp\"])\n",
    "xx"
   ]
  },
  {
   "cell_type": "code",
   "execution_count": 17,
   "id": "c8f832cf",
   "metadata": {},
   "outputs": [],
   "source": [
    "#3. repetir envio até:  \n",
    "#    3.1 medida de concordancia que é matrix confusão de todos os pares de pontos e cujo centroide estao associados   \n",
    "\n",
    "def mock_data_transfer_and_convergence(limit_after_convergence,threshold,cols_used,clusters=2):\n",
    "    c1=create_initializer_cat(silo1,cols_used,clusters) \n",
    "    c2=create_initializer_cat(silo2,cols_used,clusters)\n",
    "    c3=create_initializer_cat(silo3,cols_used,clusters)\n",
    "    print(\"inits; \",c1,c2,c3)\n",
    "    if len(c1)!=len(cols_used):\n",
    "        raise Exception(\"wrong number of centroids\")\n",
    "    old_preds_1=old_preds_2=old_preds_3=None\n",
    "    last_significance_round=0\n",
    "\n",
    "    while  last_significance_round<limit_after_convergence:\n",
    "        nc1,old_preds_1,score_1=calculate_centroids_and_score_cat(clusters=clusters,other_centroids=[c2,c3],mydata=silo1,cols=cols_used,old_preds=old_preds_1)\n",
    "        nc2,old_preds_2,score_2=calculate_centroids_and_score_cat(clusters=clusters,other_centroids=[c1,c3],mydata=silo2,cols=cols_used,old_preds=old_preds_2)\n",
    "        nc3,old_preds_3,score_3=calculate_centroids_and_score_cat(clusters=clusters,other_centroids=[c1,c2],mydata=silo3,cols=cols_used,old_preds=old_preds_3)\n",
    "        print(\"nc1\",nc1)\n",
    "        if len(nc1)!=len(cols_used):\n",
    "            raise Exception(\"wrong number of centroids\")\n",
    "      #  c1=[item for sublist in nc1 for item in sublist]\n",
    "      #  c2=[item for sublist in nc2 for item in sublist]\n",
    "      #  c3=[item for sublist in nc3 for item in sublist]\n",
    "#       print(\"c1\",c1)\n",
    "  #      print(\"c2\",c2)\n",
    "    #    print(\"c3\",c3)\n",
    "        c1=nc1\n",
    "        c2=nc2\n",
    "        c3=nc3\n",
    "        if all([s>threshold for s  in  score_1]) and all([s>threshold for s  in  score_2]) and all([s>threshold for s  in  score_3]):\n",
    "            last_significance_round+=1\n",
    "        else:\n",
    "            last_significance_round=0\n",
    "    return nc1,nc2,nc3"
   ]
  },
  {
   "cell_type": "code",
   "execution_count": 18,
   "id": "7ee71d80",
   "metadata": {},
   "outputs": [
    {
     "name": "stdout",
     "output_type": "stream",
     "text": [
      "inits;  [array([-0.00214274, -0.42214274]), array([-0.2044637, -0.3044637, -0.5244637, -0.5844637]), array([0.65445425, 0.51445425])] [array([1.29960924, 0.85960924]), array([-0.43400956, -0.63400956, -0.73400956, -0.81400956]), array([0.87114362, 0.75114362])] [array([1.1391484, 0.9191484]), array([-0.97198321, -1.25198321, -1.29198321, -1.41198321]), array([-1.2135766, -1.4935766, -1.7935766])]\n",
      "0\n",
      "1\n",
      "2\n",
      "[[array([1.29960924, 0.85960924]), array([-0.43400956, -0.63400956, -0.73400956, -0.81400956]), array([0.87114362, 0.75114362])], [array([1.1391484, 0.9191484]), array([-0.97198321, -1.25198321, -1.29198321, -1.41198321]), array([-1.2135766, -1.4935766, -1.7935766])]]\n",
      "0\n",
      "1\n",
      "2\n",
      "[[array([-0.00214274, -0.42214274]), array([-0.2044637, -0.3044637, -0.5244637, -0.5844637]), array([0.65445425, 0.51445425])], [array([1.1391484, 0.9191484]), array([-0.97198321, -1.25198321, -1.29198321, -1.41198321]), array([-1.2135766, -1.4935766, -1.7935766])]]\n",
      "0\n",
      "1\n",
      "2\n",
      "[[array([-0.00214274, -0.42214274]), array([-0.2044637, -0.3044637, -0.5244637, -0.5844637]), array([0.65445425, 0.51445425])], [array([1.29960924, 0.85960924]), array([-0.43400956, -0.63400956, -0.73400956, -0.81400956]), array([0.87114362, 0.75114362])]]\n",
      "nc1 [array([-5.55111512e-16,  1.04350306e+00]), array([-0.94299639,  2.60625   ]), array([ 0.90557181, -1.50024326])]\n",
      "0\n",
      "1\n",
      "2\n",
      "[[array([ 1.01943227, -0.14142849]), array([-0.81822346,  2.64449064]), array([-1.50024326,  0.79222713])], [array([-0.14142849,  1.05307283]), array([-0.52923663,  2.70997921]), array([1.89473684, 0.55823915])]]\n",
      "0\n",
      "1\n",
      "2\n",
      "[[array([-5.55111512e-16,  1.04350306e+00]), array([-0.94299639,  2.60625   ]), array([ 0.90557181, -1.50024326])], [array([-0.14142849,  1.05307283]), array([-0.52923663,  2.70997921]), array([1.89473684, 0.55823915])]]\n",
      "0\n",
      "1\n",
      "2\n",
      "[[array([-5.55111512e-16,  1.04350306e+00]), array([-0.94299639,  2.60625   ]), array([ 0.90557181, -1.50024326])], [array([ 1.01943227, -0.14142849]), array([-0.81822346,  2.64449064]), array([-1.50024326,  0.79222713])]]\n",
      "nc1 [array([-0.09428566,  1.02416837]), array([ 2.64174246, -0.67373004]), array([-0.75012163,  1.31130078])]\n",
      "0\n",
      "1\n",
      "2\n",
      "[[array([ 1.03219196, -0.04714283]), array([ 2.65130262, -0.73611651]), array([ 1.33963695, -0.75012163])], [array([-0.04714283,  1.02097844]), array([ 2.66767477, -0.88060992]), array([ 0.89813394, -1.50024326])]]\n",
      "0\n",
      "1\n",
      "2\n",
      "[[array([-0.09428566,  1.02416837]), array([ 2.64174246, -0.67373004]), array([-0.75012163,  1.31130078])], [array([-0.04714283,  1.02097844]), array([ 2.66767477, -0.88060992]), array([ 0.89813394, -1.50024326])]]\n",
      "0\n",
      "1\n",
      "2\n",
      "[[array([-0.09428566,  1.02416837]), array([ 2.64174246, -0.67373004]), array([-0.75012163,  1.31130078])], [array([ 1.03219196, -0.04714283]), array([ 2.65130262, -0.73611651]), array([ 1.33963695, -0.75012163])]]\n",
      "nc1 [array([-0.03142855,  1.01772347]), array([ 2.63286935, -0.80836321]), array([ 1.4125903 , -0.75012163])]\n",
      "0\n",
      "1\n",
      "2\n",
      "[[array([ 1.01504894, -0.04714283]), array([ 2.64959963, -0.77716998]), array([ 1.40314491, -0.75012163])], [array([-0.04714283,  1.01878678]), array([ 2.67825088, -0.70492328]), array([ 1.51522486, -0.50008109])]]\n",
      "0\n",
      "1\n",
      "2\n",
      "[[array([-0.03142855,  1.01772347]), array([ 2.63286935, -0.80836321]), array([ 1.4125903 , -0.75012163])], [array([-0.04714283,  1.01878678]), array([ 2.67825088, -0.70492328]), array([ 1.51522486, -0.50008109])]]\n",
      "0\n",
      "1\n",
      "2\n",
      "[[array([-0.03142855,  1.01772347]), array([ 2.63286935, -0.80836321]), array([ 1.4125903 , -0.75012163])], [array([ 1.01504894, -0.04714283]), array([ 2.64959963, -0.77716998]), array([ 1.40314491, -0.75012163])]]\n",
      "nc1 [array([-0.03142855,  1.01127857]), array([ 2.63508763, -0.74104663]), array([ 1.63945659, -0.41673424])]\n",
      "0\n",
      "1\n",
      "2\n",
      "[[array([ 1.01217008, -0.02619046]), array([ 2.65002538, -0.75664324]), array([ 1.64260505, -0.41673424])], [array([-0.02619046,  1.01092413]), array([ 2.67560685, -0.7927666 ]), array([ 1.57015735, -0.50008109])]]\n",
      "0\n",
      "1\n",
      "2\n",
      "[[array([-0.03142855,  1.01127857]), array([ 2.63508763, -0.74104663]), array([ 1.63945659, -0.41673424])], [array([-0.02619046,  1.01092413]), array([ 2.67560685, -0.7927666 ]), array([ 1.57015735, -0.50008109])]]\n",
      "0\n",
      "1\n",
      "2\n",
      "[[array([-0.03142855,  1.01127857]), array([ 2.63508763, -0.74104663]), array([ 1.63945659, -0.41673424])], [array([ 1.01217008, -0.02619046]), array([ 2.65002538, -0.75664324]), array([ 1.64260505, -0.41673424])]]\n",
      "nc1 [array([-0.01746031,  1.00769807]), array([ 2.63453306, -0.77470492]), array([ 1.73758747, -0.30560511])]\n",
      "0\n",
      "1\n",
      "2\n",
      "[[array([ 1.0074009 , -0.01920634]), array([ 2.64991894, -0.76690661]), array([ 1.73653798, -0.30560511])], [array([-0.01920634,  1.00781622]), array([ 2.67626786, -0.74884494]), array([ 1.72559949, -0.27782283])]]\n",
      "0\n",
      "1\n",
      "2\n",
      "[[array([-0.01746031,  1.00769807]), array([ 2.63453306, -0.77470492]), array([ 1.73758747, -0.30560511])], [array([-0.01920634,  1.00781622]), array([ 2.67626786, -0.74884494]), array([ 1.72559949, -0.27782283])]]\n",
      "0\n",
      "1\n",
      "2\n",
      "[[array([-0.01746031,  1.00769807]), array([ 2.63453306, -0.77470492]), array([ 1.73758747, -0.30560511])], [array([ 1.0074009 , -0.01920634]), array([ 2.64991894, -0.76690661]), array([ 1.73653798, -0.30560511])]]\n",
      "nc1 [array([-0.01280423,  1.00507237]), array([ 2.6346717 , -0.75787578]), array([ 1.82071249, -0.19447598])]\n",
      "0\n",
      "1\n",
      "2\n",
      "[[array([ 1.00517143, -0.01222222]), array([ 2.64994555, -0.76177493]), array([ 1.82106232, -0.19447598])], [array([-0.01222222,  1.00503299]), array([ 2.6761026 , -0.77080577]), array([ 1.78962076, -0.20373674])]]\n",
      "0\n",
      "1\n",
      "2\n",
      "[[array([-0.01280423,  1.00507237]), array([ 2.6346717 , -0.75787578]), array([ 1.82071249, -0.19447598])], [array([-0.01222222,  1.00503299]), array([ 2.6761026 , -0.77080577]), array([ 1.78962076, -0.20373674])]]\n",
      "0\n",
      "1\n",
      "2\n",
      "[[array([-0.01280423,  1.00507237]), array([ 2.6346717 , -0.75787578]), array([ 1.82071249, -0.19447598])], [array([ 1.00517143, -0.01222222]), array([ 2.64994555, -0.76177493]), array([ 1.82106232, -0.19447598])]]\n",
      "nc1 [array([-0.00814814,  1.00340147]), array([ 2.63463704, -0.76629035]), array([ 1.87022769, -0.13273757])]\n",
      "0\n",
      "1\n",
      "2\n",
      "[[array([ 1.00336845, -0.00834215]), array([ 2.6499389 , -0.76434077]), array([ 1.87011108, -0.13273757])], [array([-0.00834215,  1.0034146 ]), array([ 2.67614392, -0.75982535]), array([ 1.84550388, -0.12965065])]]\n",
      "0\n",
      "1\n",
      "2\n",
      "[[array([-0.00814814,  1.00340147]), array([ 2.63463704, -0.76629035]), array([ 1.87022769, -0.13273757])], [array([-0.00834215,  1.0034146 ]), array([ 2.67614392, -0.75982535]), array([ 1.84550388, -0.12965065])]]\n",
      "0\n",
      "1\n",
      "2\n",
      "[[array([-0.00814814,  1.00340147]), array([ 2.63463704, -0.76629035]), array([ 1.87022769, -0.13273757])], [array([ 1.00336845, -0.00834215]), array([ 2.6499389 , -0.76434077]), array([ 1.87011108, -0.13273757])]]\n",
      "nc1 [array([-0.00556143,  1.00226102]), array([ 2.6346457 , -0.76208306]), array([ 1.90520499, -0.08746274])]\n",
      "0\n",
      "1\n",
      "2\n",
      "[[array([ 1.00227202, -0.00549676]), array([ 2.64994056, -0.76305785]), array([ 1.90524386, -0.08746274])], [array([-0.00549676,  1.00225664]), array([ 2.67613359, -0.76531556]), array([ 1.87835854, -0.08849172])]]\n",
      "0\n",
      "1\n",
      "2\n",
      "[[array([-0.00556143,  1.00226102]), array([ 2.6346457 , -0.76208306]), array([ 1.90520499, -0.08746274])], [array([-0.00549676,  1.00225664]), array([ 2.67613359, -0.76531556]), array([ 1.87835854, -0.08849172])]]\n",
      "0\n",
      "1\n",
      "2\n",
      "[[array([-0.00556143,  1.00226102]), array([ 2.6346457 , -0.76208306]), array([ 1.90520499, -0.08746274])], [array([ 1.00227202, -0.00549676]), array([ 2.64994056, -0.76305785]), array([ 1.90524386, -0.08746274])]]\n",
      "nc1 [array([-0.00366451,  1.00150956]), array([ 2.63464354, -0.76418671]), array([ 1.92786747, -0.05865149])]\n",
      "0\n",
      "1\n",
      "2\n",
      "[[array([ 1.00150589, -0.00368606]), array([ 2.64994015, -0.76369931]), array([ 1.92785451, -0.05865149])], [array([-0.00368606,  1.00151101]), array([ 2.67613617, -0.76257046]), array([ 1.90172856, -0.05830849])]]\n",
      "0\n",
      "1\n",
      "2\n",
      "[[array([-0.00366451,  1.00150956]), array([ 2.63464354, -0.76418671]), array([ 1.92786747, -0.05865149])], [array([-0.00368606,  1.00151101]), array([ 2.67613617, -0.76257046]), array([ 1.90172856, -0.05830849])]]\n",
      "0\n",
      "1\n",
      "2\n",
      "[[array([-0.00366451,  1.00150956]), array([ 2.63464354, -0.76418671]), array([ 1.92786747, -0.05865149])], [array([ 1.00150589, -0.00368606]), array([ 2.64994015, -0.76369931]), array([ 1.92785451, -0.05865149])]]\n",
      "nc1 [array([-0.00245738,  1.00100563]), array([ 2.63464408, -0.76313488]), array([ 1.94319436, -0.03898666])]\n",
      "0\n",
      "1\n",
      "2\n",
      "[[array([ 1.00100686, -0.00245019]), array([ 2.64994025, -0.76337858]), array([ 1.94319868, -0.03898666])], [array([-0.00245019,  1.00100515]), array([ 2.67613553, -0.76394301]), array([ 1.91681961, -0.03910099])]]\n",
      "0\n",
      "1\n",
      "2\n",
      "[[array([-0.00245738,  1.00100563]), array([ 2.63464408, -0.76313488]), array([ 1.94319436, -0.03898666])], [array([-0.00245019,  1.00100515]), array([ 2.67613553, -0.76394301]), array([ 1.91681961, -0.03910099])]]\n",
      "0\n",
      "1\n",
      "2\n",
      "[[array([-0.00245738,  1.00100563]), array([ 2.63464408, -0.76313488]), array([ 1.94319436, -0.03898666])], [array([ 1.00100686, -0.00245019]), array([ 2.64994025, -0.76337858]), array([ 1.94319868, -0.03898666])]]\n",
      "nc1 [array([-0.00163346,  1.00067067]), array([ 2.63464394, -0.76366079]), array([ 1.95333943, -0.02602922])]\n",
      "0\n",
      "1\n",
      "2\n",
      "[[array([ 1.00067026, -0.00163586]), array([ 2.64994022, -0.76353895]), array([ 1.95333799, -0.02602922])], [array([-0.00163586,  1.00067083]), array([ 2.67613569, -0.76325673]), array([ 1.92704329, -0.02599111])]]\n",
      "0\n",
      "1\n",
      "2\n",
      "[[array([-0.00163346,  1.00067067]), array([ 2.63464394, -0.76366079]), array([ 1.95333943, -0.02602922])], [array([-0.00163586,  1.00067083]), array([ 2.67613569, -0.76325673]), array([ 1.92704329, -0.02599111])]]\n",
      "0\n",
      "1\n",
      "2\n",
      "[[array([-0.00163346,  1.00067067]), array([ 2.63464394, -0.76366079]), array([ 1.95333943, -0.02602922])], [array([ 1.00067026, -0.00163586]), array([ 2.64994022, -0.76353895]), array([ 1.95333799, -0.02602922])]]\n",
      "nc1 [array([-0.00109057,  1.00044703]), array([ 2.63464398, -0.76339784]), array([ 1.96012709, -0.01734011])]\n",
      "0\n",
      "1\n",
      "2\n",
      "[[array([ 1.00044717, -0.00108977]), array([ 2.64994023, -0.76345876]), array([ 1.96012757, -0.01734011])], [array([-0.00108977,  1.00044698]), array([ 2.67613565, -0.76359987]), array([ 1.93380475, -0.01735281])]]\n",
      "0\n",
      "1\n",
      "2\n",
      "[[array([-0.00109057,  1.00044703]), array([ 2.63464398, -0.76339784]), array([ 1.96012709, -0.01734011])], [array([-0.00108977,  1.00044698]), array([ 2.67613565, -0.76359987]), array([ 1.93380475, -0.01735281])]]\n",
      "0\n",
      "1\n",
      "2\n",
      "[[array([-0.00109057,  1.00044703]), array([ 2.63464398, -0.76339784]), array([ 1.96012709, -0.01734011])], [array([ 1.00044717, -0.00108977]), array([ 2.64994023, -0.76345876]), array([ 1.96012757, -0.01734011])]]\n",
      "nc1 [array([-7.26514861e-04,  1.00029805e+00]), array([ 2.63464397, -0.76352932]), array([ 1.96464411, -0.01156431])]\n",
      "0\n",
      "1\n",
      "2\n",
      "[[array([ 1.00029800e+00, -7.26780984e-04]), array([ 2.64994023, -0.76349885]), array([ 1.96464395, -0.01156431])], [array([-7.26780984e-04,  1.00029807e+00]), array([ 2.67613566, -0.7634283 ]), array([ 1.9383305 , -0.01156007])]]\n",
      "0\n",
      "1\n",
      "2\n",
      "[[array([-7.26514861e-04,  1.00029805e+00]), array([ 2.63464397, -0.76352932]), array([ 1.96464411, -0.01156431])], [array([-7.26780984e-04,  1.00029807e+00]), array([ 2.67613566, -0.7634283 ]), array([ 1.9383305 , -0.01156007])]]\n",
      "0\n",
      "1\n",
      "2\n",
      "[[array([-7.26514861e-04,  1.00029805e+00]), array([ 2.63464397, -0.76352932]), array([ 1.96464411, -0.01156431])], [array([ 1.00029800e+00, -7.26780984e-04]), array([ 2.64994023, -0.76349885]), array([ 1.96464395, -0.01156431])]]\n",
      "nc1 [array([-4.84520656e-04,  1.00019869e+00]), array([ 2.63464397, -0.76346358]), array([ 1.96765815, -0.00770813])]\n",
      "0\n",
      "1\n",
      "2\n",
      "[[array([ 1.00019870e+00, -4.84431948e-04]), array([ 2.64994023, -0.76347881]), array([ 1.9676582 , -0.00770813])], [array([-4.84431948e-04,  1.00019868e+00]), array([ 2.67613565, -0.76351409]), array([ 1.94134163, -0.00770954])]]\n",
      "0\n",
      "1\n",
      "2\n",
      "[[array([-4.84520656e-04,  1.00019869e+00]), array([ 2.63464397, -0.76346358]), array([ 1.96765815, -0.00770813])], [array([-4.84431948e-04,  1.00019868e+00]), array([ 2.67613565, -0.76351409]), array([ 1.94134163, -0.00770954])]]\n",
      "0\n",
      "1\n",
      "2\n",
      "[[array([-4.84520656e-04,  1.00019869e+00]), array([ 2.63464397, -0.76346358]), array([ 1.96765815, -0.00770813])], [array([ 1.00019870e+00, -4.84431948e-04]), array([ 2.64994023, -0.76347881]), array([ 1.9676582 , -0.00770813])]]\n",
      "nc1 [array([-3.22954632e-04,  1.00013246e+00]), array([ 2.63464397, -0.76349645]), array([ 1.96966661, -0.00513922])]\n",
      "0\n",
      "1\n",
      "2\n",
      "[[array([ 1.00013246e+00, -3.22984201e-04]), array([ 2.64994023, -0.76348883]), array([ 1.96966659, -0.00513922])], [array([-3.22984201e-04,  1.00013246e+00]), array([ 2.67613566, -0.76347119]), array([ 1.94335107, -0.00513875])]]\n",
      "0\n",
      "1\n",
      "2\n",
      "[[array([-3.22954632e-04,  1.00013246e+00]), array([ 2.63464397, -0.76349645]), array([ 1.96966661, -0.00513922])], [array([-3.22984201e-04,  1.00013246e+00]), array([ 2.67613566, -0.76347119]), array([ 1.94335107, -0.00513875])]]\n",
      "0\n",
      "1\n",
      "2\n",
      "[[array([-3.22954632e-04,  1.00013246e+00]), array([ 2.63464397, -0.76349645]), array([ 1.96966661, -0.00513922])], [array([ 1.00013246e+00, -3.22984201e-04]), array([ 2.64994023, -0.76348883]), array([ 1.96966659, -0.00513922])]]\n",
      "nc1 [array([-2.15322801e-04,  1.00008831e+00]), array([ 2.63464397, -0.76348001]), array([ 1.97100589, -0.00342599])]\n",
      "0\n",
      "1\n",
      "2\n",
      "[[array([ 1.00008831e+00, -2.15312945e-04]), array([ 2.64994023, -0.76348382]), array([ 1.97100589, -0.00342599])], [array([-2.15312945e-04,  1.00008831e+00]), array([ 2.67613565, -0.76349264]), array([ 1.94469002, -0.00342615])]]\n",
      "0\n",
      "1\n",
      "2\n",
      "[[array([-2.15322801e-04,  1.00008831e+00]), array([ 2.63464397, -0.76348001]), array([ 1.97100589, -0.00342599])], [array([-2.15312945e-04,  1.00008831e+00]), array([ 2.67613565, -0.76349264]), array([ 1.94469002, -0.00342615])]]\n",
      "0\n",
      "1\n",
      "2\n",
      "[[array([-2.15322801e-04,  1.00008831e+00]), array([ 2.63464397, -0.76348001]), array([ 1.97100589, -0.00342599])], [array([ 1.00008831e+00, -2.15312945e-04]), array([ 2.64994023, -0.76348382]), array([ 1.97100589, -0.00342599])]]\n",
      "nc1 [array([-1.43541963e-04,  1.00005887e+00]), array([ 2.63464397, -0.76348823]), array([ 1.97189864, -0.00228405])]\n",
      "0\n",
      "1\n",
      "2\n",
      "[[array([ 1.00005887e+00, -1.43545248e-04]), array([ 2.64994023, -0.76348633]), array([ 1.97189863, -0.00228405])], [array([-1.43545248e-04,  1.00005887e+00]), array([ 2.67613565, -0.76348192]), array([ 1.94558287, -0.00228399])]]\n",
      "0\n",
      "1\n",
      "2\n",
      "[[array([-1.43541963e-04,  1.00005887e+00]), array([ 2.63464397, -0.76348823]), array([ 1.97189864, -0.00228405])], [array([-1.43545248e-04,  1.00005887e+00]), array([ 2.67613565, -0.76348192]), array([ 1.94558287, -0.00228399])]]\n",
      "0\n",
      "1\n",
      "2\n",
      "[[array([-1.43541963e-04,  1.00005887e+00]), array([ 2.63464397, -0.76348823]), array([ 1.97189864, -0.00228405])], [array([ 1.00005887e+00, -1.43545248e-04]), array([ 2.64994023, -0.76348633]), array([ 1.97189863, -0.00228405])]]\n",
      "nc1 [array([-9.56968323e-05,  1.00003925e+00]), array([ 2.63464397, -0.76348412]), array([ 1.97249384e+00, -1.52267993e-03])]\n",
      "0\n",
      "1\n",
      "2\n",
      "[[array([ 1.00003925e+00, -9.56957372e-05]), array([ 2.64994023, -0.76348507]), array([ 1.97249384e+00, -1.52267993e-03])], [array([-9.56957372e-05,  1.00003925e+00]), array([ 2.67613565, -0.76348728]), array([ 1.94617804e+00, -1.52269736e-03])]]\n",
      "0\n",
      "1\n",
      "2\n",
      "[[array([-9.56968323e-05,  1.00003925e+00]), array([ 2.63464397, -0.76348412]), array([ 1.97249384e+00, -1.52267993e-03])], [array([-9.56957372e-05,  1.00003925e+00]), array([ 2.67613565, -0.76348728]), array([ 1.94617804e+00, -1.52269736e-03])]]\n",
      "0\n",
      "1\n",
      "2\n",
      "[[array([-9.56968323e-05,  1.00003925e+00]), array([ 2.63464397, -0.76348412]), array([ 1.97249384e+00, -1.52267993e-03])], [array([ 1.00003925e+00, -9.56957372e-05]), array([ 2.64994023, -0.76348507]), array([ 1.97249384e+00, -1.52267993e-03])]]\n",
      "nc1 [array([-6.37971581e-05,  1.00002617e+00]), array([ 2.63464397, -0.76348618]), array([ 1.97289062e+00, -1.01512576e-03])]\n",
      "0\n",
      "1\n",
      "2\n",
      "[[array([ 1.00002617e+00, -6.37975232e-05]), array([ 2.64994023, -0.7634857 ]), array([ 1.97289062e+00, -1.01512576e-03])], [array([-6.37975232e-05,  1.00002617e+00]), array([ 2.67613565, -0.7634846 ]), array([ 1.94657484e+00, -1.01511996e-03])]]\n",
      "0\n",
      "1\n",
      "2\n",
      "[[array([-6.37971581e-05,  1.00002617e+00]), array([ 2.63464397, -0.76348618]), array([ 1.97289062e+00, -1.01512576e-03])], [array([-6.37975232e-05,  1.00002617e+00]), array([ 2.67613565, -0.7634846 ]), array([ 1.94657484e+00, -1.01511996e-03])]]\n",
      "0\n",
      "1\n",
      "2\n",
      "[[array([-6.37971581e-05,  1.00002617e+00]), array([ 2.63464397, -0.76348618]), array([ 1.97289062e+00, -1.01512576e-03])], [array([ 1.00002617e+00, -6.37975232e-05]), array([ 2.64994023, -0.7634857 ]), array([ 1.97289062e+00, -1.01512576e-03])]]\n",
      "nc1 [array([-4.25316821e-05,  1.00001744e+00]), array([ 2.63464397, -0.76348515]), array([ 1.97315515e+00, -6.76748573e-04])]\n",
      "0\n",
      "1\n",
      "2\n",
      "[[array([ 1.00001744e+00, -4.25315604e-05]), array([ 2.64994023, -0.76348539]), array([ 1.97315515e+00, -6.76748573e-04])], [array([-4.25315604e-05,  1.00001744e+00]), array([ 2.67613565, -0.76348594]), array([ 1.94683936e+00, -6.76750509e-04])]]\n",
      "0\n",
      "1\n",
      "2\n",
      "[[array([-4.25316821e-05,  1.00001744e+00]), array([ 2.63464397, -0.76348515]), array([ 1.97315515e+00, -6.76748573e-04])], [array([-4.25315604e-05,  1.00001744e+00]), array([ 2.67613565, -0.76348594]), array([ 1.94683936e+00, -6.76750509e-04])]]\n",
      "0\n",
      "1\n",
      "2\n",
      "[[array([-4.25316821e-05,  1.00001744e+00]), array([ 2.63464397, -0.76348515]), array([ 1.97315515e+00, -6.76748573e-04])], [array([ 1.00001744e+00, -4.25315604e-05]), array([ 2.64994023, -0.76348539]), array([ 1.97315515e+00, -6.76748573e-04])]]\n",
      "nc1 [array([-2.83543736e-05,  1.00001163e+00]), array([ 2.63464397, -0.76348566]), array([ 1.97333151e+00, -4.51166361e-04])]\n",
      "0\n",
      "1\n",
      "2\n",
      "[[array([ 1.00001163e+00, -2.83544142e-05]), array([ 2.64994023, -0.76348554]), array([ 1.97333151e+00, -4.51166361e-04])], [array([-2.83544142e-05,  1.00001163e+00]), array([ 2.67613565, -0.76348527]), array([ 1.94701572e+00, -4.51165716e-04])]]\n",
      "0\n",
      "1\n",
      "2\n",
      "[[array([-2.83543736e-05,  1.00001163e+00]), array([ 2.63464397, -0.76348566]), array([ 1.97333151e+00, -4.51166361e-04])], [array([-2.83544142e-05,  1.00001163e+00]), array([ 2.67613565, -0.76348527]), array([ 1.94701572e+00, -4.51165716e-04])]]\n",
      "0\n",
      "1\n",
      "2\n",
      "[[array([-2.83543736e-05,  1.00001163e+00]), array([ 2.63464397, -0.76348566]), array([ 1.97333151e+00, -4.51166361e-04])], [array([ 1.00001163e+00, -2.83544142e-05]), array([ 2.64994023, -0.76348554]), array([ 1.97333151e+00, -4.51166361e-04])]]\n",
      "nc1 [array([-1.89029428e-05,  1.00000775e+00]), array([ 2.63464397, -0.7634854 ]), array([ 1.97344907e+00, -3.00777359e-04])]\n",
      "0\n",
      "1\n",
      "2\n",
      "[[array([ 1.00000775e+00, -1.89029293e-05]), array([ 2.64994023, -0.76348546]), array([ 1.97344907e+00, -3.00777359e-04])], [array([-1.89029293e-05,  1.00000775e+00]), array([ 2.67613565, -0.7634856 ]), array([ 1.94713328e+00, -3.00777574e-04])]]\n",
      "0\n",
      "1\n",
      "2\n",
      "[[array([-1.89029428e-05,  1.00000775e+00]), array([ 2.63464397, -0.7634854 ]), array([ 1.97344907e+00, -3.00777359e-04])], [array([-1.89029293e-05,  1.00000775e+00]), array([ 2.67613565, -0.7634856 ]), array([ 1.94713328e+00, -3.00777574e-04])]]\n",
      "0\n",
      "1\n",
      "2\n",
      "[[array([-1.89029428e-05,  1.00000775e+00]), array([ 2.63464397, -0.7634854 ]), array([ 1.97344907e+00, -3.00777359e-04])], [array([ 1.00000775e+00, -1.89029293e-05]), array([ 2.64994023, -0.76348546]), array([ 1.97344907e+00, -3.00777359e-04])]]\n",
      "nc1 [array([-1.26019528e-05,  1.00000517e+00]), array([ 2.63464397, -0.76348553]), array([ 1.97352745e+00, -2.00518311e-04])]\n"
     ]
    }
   ],
   "source": [
    "f1,f2,f3=mock_data_transfer_and_convergence(20,0.9,[\"sex\",\"cp\",\"restecg\"])"
   ]
  },
  {
   "cell_type": "code",
   "execution_count": 19,
   "id": "7972ef52",
   "metadata": {},
   "outputs": [
    {
     "data": {
      "text/plain": [
       "[array([-1.26019528e-05,  1.00000517e+00]),\n",
       " array([ 2.63464397, -0.76348553]),\n",
       " array([ 1.97352745e+00, -2.00518311e-04])]"
      ]
     },
     "execution_count": 19,
     "metadata": {},
     "output_type": "execute_result"
    }
   ],
   "source": [
    "f1"
   ]
  },
  {
   "cell_type": "code",
   "execution_count": 20,
   "id": "a9949355",
   "metadata": {},
   "outputs": [],
   "source": [
    "import matplotlib.pyplot as plt\n",
    "plt.rcParams[\"figure.figsize\"] = (5,5)"
   ]
  },
  {
   "cell_type": "code",
   "execution_count": 23,
   "id": "56401c27",
   "metadata": {},
   "outputs": [
    {
     "data": {
      "image/png": "[encoded data removed]",
      "text/plain": [
       "<Figure size 360x360 with 1 Axes>"
      ]
     },
     "metadata": {
      "needs_background": "light"
     },
     "output_type": "display_data"
    }
   ],
   "source": [
    "# plot\n",
    "xlabel=[\"sex\",\"cp\",\"restecg\",\"sex\",\"cp\",\"restecg\"]\n",
    "# plot\n",
    "x=[1,2,3,1,2,3]\n",
    "#c1=plt.scatter(x,kmm3_.cluster_centers_)\n",
    "c2=plt.scatter([x-0.05 for x in x],f1,s=200)\n",
    "c3=plt.scatter([x+0.05 for x in x],f2,s=200)\n",
    "c4=plt.scatter([x-0.10 for x in x],f3,s=200)\n",
    "#c5=plt.scatter([1.10,2.10,3.10],silo2[[\"Age\",\"trestbps\",\"chol\"]].mean().values)\n",
    "\n",
    "\n",
    "lgd=plt.legend(( c2,c3,c4),\n",
    "           ( 'S1',\"S2\",\"S3\"),\n",
    "           scatterpoints=1,\n",
    "         #  loc=5,\n",
    "           fontsize=20,bbox_to_anchor=(1.04, 1.))\n",
    "plt.xticks(x, xlabel)\n",
    "plt.xticks(fontsize=20)\n",
    "plt.yticks(fontsize=18)\n",
    "plt.savefig(\"Vizs/my_cluster_3_cat.png\",bbox_extra_artists=(lgd,), bbox_inches='tight')\n",
    "#jitter - ver chatgpt"
   ]
  },
  {
   "cell_type": "code",
   "execution_count": null,
   "id": "d9b1c423",
   "metadata": {},
   "outputs": [],
   "source": []
  }
 ],
 "metadata": {
  "kernelspec": {
   "display_name": "Python (py3)",
   "language": "python",
   "name": "py3"
  },
  "language_info": {
   "codemirror_mode": {
    "name": "ipython",
    "version": 3
   },
   "file_extension": ".py",
   "mimetype": "text/x-python",
   "name": "python",
   "nbconvert_exporter": "python",
   "pygments_lexer": "ipython3",
   "version": "3.9.10"
  },
  "toc-showtags": false,
  "vscode": {
   "interpreter": {
    "hash": "1b5dab8f111847406d5664e470460af1e541157c2ea42056c3bb116b0762d07c"
   }
  }
 },
 "nbformat": 4,
 "nbformat_minor": 5
}
